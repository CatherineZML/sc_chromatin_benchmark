{
 "cells": [
  {
   "cell_type": "code",
   "execution_count": null,
   "metadata": {},
   "outputs": [],
   "source": []
  }
 ],
 "metadata": {
  "kernelspec": {
   "display_name": "sc_chromatin",
   "language": "python",
   "name": "python3"
  },
  "language_info": {
   "name": "python",
   "version": "3.9.16"
  },
  "orig_nbformat": 4,
  "vscode": {
   "interpreter": {
    "hash": "8b26c0ac6d2fb68c2707751e77851c1b7ed1c0fd163257f8d297c7f94438dc4e"
   }
  }
 },
 "nbformat": 4,
 "nbformat_minor": 2
}
