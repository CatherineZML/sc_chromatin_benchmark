{
 "cells": [
  {
   "cell_type": "code",
   "execution_count": 1,
   "metadata": {
    "vscode": {
     "languageId": "r"
    }
   },
   "outputs": [
    {
     "name": "stderr",
     "output_type": "stream",
     "text": [
      "\u001b[1m\u001b[22m\u001b[36mℹ\u001b[39m Loading \u001b[34mscFeatAgg\u001b[39m\n"
     ]
    }
   ],
   "source": [
    "suppressPackageStartupMessages({\n",
    "    devtools::load_all(path=\"/home/siluo/public/SiyuanLuo/projects/benchmark/scripts/feature_engineering/scFeatAgg\")\n",
    "    require(Signac)\n",
    "    require(Seurat)\n",
    "    require(SingleCellExperiment)\n",
    "    require(mbkmeans)\n",
    "    library(tidyr)\n",
    "    library(scran)\n",
    "    library(BiocParallel)\n",
    "    library(bluster)\n",
    "})"
   ]
  },
  {
   "cell_type": "code",
   "execution_count": 2,
   "metadata": {
    "vscode": {
     "languageId": "r"
    }
   },
   "outputs": [],
   "source": [
    "aggregate_features <- function(feature_matrix=NULL, ndims, res, norm_function, reduce, sce=NULL){\n",
    "    require(SingleCellExperiment)\n",
    "    # require(scDblFinder)\n",
    "    # feature_matrix: a cell-by-feature matrix\n",
    "    # first normalize feature_matrix using norm_function, then run PCA (reduce cell dim), then cluster features, \n",
    "    # then log-normalize the meta-features, and (optionaly) lastly do dimensional reduction on meta-feature matrix\n",
    "    if (is.null(feature_matrix) & is.null(sce)){stop(\"Please specify the feature matrix or sce object as input!\")}\n",
    "    if (is.null(sce)){\n",
    "        agg_counts <- scFeatAgg::aggregateFeatures2(\n",
    "        t(feature_matrix),\n",
    "        res = res,\n",
    "        ndims = ndims,\n",
    "        norm.fn = norm_function,\n",
    "        capEmb = 3)\n",
    "    } else {\n",
    "        sce_x <- scFeatAgg::aggregateFeatures2(\n",
    "        sce,\n",
    "        res = res,\n",
    "        ndims = ndims,\n",
    "        norm.fn = norm_function,\n",
    "        capEmb = 3)\n",
    "\n",
    "        agg_counts <- counts(sce_x)\n",
    "        feature_groups <- metadata(sce_x)$featureGroups\n",
    "    }\n",
    "    gc()\n",
    "    # create sce object\n",
    "    sce2 <- SingleCellExperiment(list(counts=agg_counts))\n",
    "    # normalize the meta-features\n",
    "    sce2 <- scuttle::logNormCounts(sce2)\n",
    "\n",
    "    if (reduce == \"original\") {\n",
    "        Fmat <- t(as.matrix(logcounts(sce2)))\n",
    "    }else if (reduce == \"pca\") {\n",
    "        pca <- scater::runPCA(t(logcounts(sce2)), center=TRUE, scale=TRUE, rank=100)\n",
    "        Fmat <- as.matrix(pca$x)\n",
    "    }else if (reduce == 'lsi') {\n",
    "        tf.idf <- RunTFIDF(object=t(as.matrix(logcounts(sce2))), method=1)\n",
    "        agg_lsi <- RunSVD(t(tf.idf), n = 100, scale.embeddings = TRUE)\n",
    "        Fmat <- agg_lsi\n",
    "    }else{stop(\"Please specify correct dimensional reduction method!\")}\n",
    "\n",
    "    if (is.null(sce)){\n",
    "        return(Fmat)\n",
    "        } else {\n",
    "            return(list(Fmat=Fmat, Fgrp=feature_groups))\n",
    "            }\n",
    "}"
   ]
  },
  {
   "attachments": {},
   "cell_type": "markdown",
   "metadata": {},
   "source": [
    "# Buenrostro_2018"
   ]
  },
  {
   "cell_type": "code",
   "execution_count": 3,
   "metadata": {
    "vscode": {
     "languageId": "r"
    }
   },
   "outputs": [],
   "source": [
    "sobj_file <- \"/home/siluo/public/SiyuanLuo/projects/benchmark/outputs/Buenrostro_2018/Buenrostro_2018/feature_engineering/R/Signac/by_cluster_peaks/0/default/15.RDS\""
   ]
  },
  {
   "cell_type": "code",
   "execution_count": 4,
   "metadata": {
    "vscode": {
     "languageId": "r"
    }
   },
   "outputs": [],
   "source": [
    "sobj <- readRDS(sobj_file)\n",
    "sce <- as.SingleCellExperiment(sobj)"
   ]
  },
  {
   "cell_type": "code",
   "execution_count": 7,
   "metadata": {
    "vscode": {
     "languageId": "r"
    }
   },
   "outputs": [
    {
     "name": "stderr",
     "output_type": "stream",
     "text": [
      "Warning message in .check_reddim_names(x, value, withDimnames):\n",
      "“non-NULL 'rownames(value)' should be the same as 'colnames(x)' for\n",
      "'reducedDim<-'. This will be an error in the next release of\n",
      "Bioconductor.”\n",
      "First-pass coarse clustering...\n",
      "\n",
      "Performing TF-IDF normalization\n",
      "\n",
      "Re-clustering...\n",
      "\n"
     ]
    },
    {
     "ename": "",
     "evalue": "",
     "output_type": "error",
     "traceback": [
      "\u001b[1;31mCanceled future for execute_request message before replies were done"
     ]
    },
    {
     "ename": "",
     "evalue": "",
     "output_type": "error",
     "traceback": [
      "\u001b[1;31mThe Kernel crashed while executing code in the the current cell or a previous cell. Please review the code in the cell(s) to identify a possible cause of the failure. Click <a href='https://aka.ms/vscodeJupyterKernelCrash'>here</a> for more info. View Jupyter <a href='command:jupyter.viewOutput'>log</a> for further details."
     ]
    }
   ],
   "source": [
    "res <- aggregate_features(feature_matrix=NULL, ndims=20, res=5, norm_function=Signac::RunTFIDF, reduce=\"pca\", sce)"
   ]
  },
  {
   "cell_type": "code",
   "execution_count": null,
   "metadata": {
    "vscode": {
     "languageId": "r"
    }
   },
   "outputs": [],
   "source": [
    "embed <- res$Fmat\n",
    "counts <- Matrix::rowSums(feature_matrix)\n",
    "embed <- embed[, seq_len(length.out = ndim_feature_method)]\n",
    "components <- DepthCorComponents(embed, counts, 0.75, ndim_feature_method)\n",
    "agg_feature_matrix <- embed[, components]\n",
    "\n",
    "sobj[[DefaultAssay(sobj)]][[\"feature_groups\"]]<- res$Fgrp"
   ]
  }
 ],
 "metadata": {
  "kernelspec": {
   "display_name": "R",
   "language": "R",
   "name": "ir"
  },
  "language_info": {
   "codemirror_mode": "r",
   "file_extension": ".r",
   "mimetype": "text/x-r-source",
   "name": "R",
   "pygments_lexer": "r",
   "version": "4.2.2"
  },
  "orig_nbformat": 4
 },
 "nbformat": 4,
 "nbformat_minor": 2
}
