{
 "cells": [
  {
   "cell_type": "code",
   "execution_count": 3,
   "metadata": {
    "pycharm": {
     "name": "#%%\n"
    },
    "vscode": {
     "languageId": "r"
    }
   },
   "outputs": [],
   "source": [
    "source(\"~/public/SiyuanLuo/projects/benchmark/scripts/evaluation/lib_metrics.R\", chdir=TRUE)\n",
    "source(\"~/public/SiyuanLuo/projects/benchmark/scripts/clustering/lib_clustering.R\", chdir=TRUE)\n",
    "source(\"~/public/SiyuanLuo/projects/benchmark/scripts/feature_engineering/func_aggregation.R\", chdir=TRUE)\n"
   ]
  },
  {
   "cell_type": "code",
   "execution_count": 4,
   "metadata": {
    "pycharm": {
     "name": "#%%\n"
    },
    "vscode": {
     "languageId": "r"
    }
   },
   "outputs": [
    {
     "name": "stderr",
     "output_type": "stream",
     "text": [
      "Loading required package: mbkmeans\n",
      "\n"
     ]
    }
   ],
   "source": [
    "require(mbkmeans)"
   ]
  },
  {
   "cell_type": "code",
   "execution_count": 5,
   "metadata": {
    "pycharm": {
     "name": "#%%\n"
    },
    "vscode": {
     "languageId": "r"
    }
   },
   "outputs": [
    {
     "name": "stderr",
     "output_type": "stream",
     "text": [
      "\u001b[1m\u001b[22m\u001b[36mℹ\u001b[39m Loading \u001b[34mscFeatAgg\u001b[39m\n",
      "Loading required package: SingleCellExperiment\n",
      "\n",
      "Loading required package: SummarizedExperiment\n",
      "\n",
      "Loading required package: MatrixGenerics\n",
      "\n",
      "Loading required package: matrixStats\n",
      "\n",
      "\n",
      "Attaching package: ‘matrixStats’\n",
      "\n",
      "\n",
      "The following object is masked from ‘package:dplyr’:\n",
      "\n",
      "    count\n",
      "\n",
      "\n",
      "\n",
      "Attaching package: ‘MatrixGenerics’\n",
      "\n",
      "\n",
      "The following objects are masked from ‘package:matrixStats’:\n",
      "\n",
      "    colAlls, colAnyNAs, colAnys, colAvgsPerRowSet, colCollapse,\n",
      "    colCounts, colCummaxs, colCummins, colCumprods, colCumsums,\n",
      "    colDiffs, colIQRDiffs, colIQRs, colLogSumExps, colMadDiffs,\n",
      "    colMads, colMaxs, colMeans2, colMedians, colMins, colOrderStats,\n",
      "    colProds, colQuantiles, colRanges, colRanks, colSdDiffs, colSds,\n",
      "    colSums2, colTabulates, colVarDiffs, colVars, colWeightedMads,\n",
      "    colWeightedMeans, colWeightedMedians, colWeightedSds,\n",
      "    colWeightedVars, rowAlls, rowAnyNAs, rowAnys, rowAvgsPerColSet,\n",
      "    rowCollapse, rowCounts, rowCummaxs, rowCummins, rowCumprods,\n",
      "    rowCumsums, rowDiffs, rowIQRDiffs, rowIQRs, rowLogSumExps,\n",
      "    rowMadDiffs, rowMads, rowMaxs, rowMeans2, rowMedians, rowMins,\n",
      "    rowOrderStats, rowProds, rowQuantiles, rowRanges, rowRanks,\n",
      "    rowSdDiffs, rowSds, rowSums2, rowTabulates, rowVarDiffs, rowVars,\n",
      "    rowWeightedMads, rowWeightedMeans, rowWeightedMedians,\n",
      "    rowWeightedSds, rowWeightedVars\n",
      "\n",
      "\n",
      "Loading required package: GenomicRanges\n",
      "\n",
      "Loading required package: stats4\n",
      "\n",
      "Loading required package: BiocGenerics\n",
      "\n",
      "\n",
      "Attaching package: ‘BiocGenerics’\n",
      "\n",
      "\n",
      "The following objects are masked from ‘package:dplyr’:\n",
      "\n",
      "    combine, intersect, setdiff, union\n",
      "\n",
      "\n",
      "The following objects are masked from ‘package:stats’:\n",
      "\n",
      "    IQR, mad, sd, var, xtabs\n",
      "\n",
      "\n",
      "The following objects are masked from ‘package:base’:\n",
      "\n",
      "    anyDuplicated, aperm, append, as.data.frame, basename, cbind,\n",
      "    colnames, dirname, do.call, duplicated, eval, evalq, Filter, Find,\n",
      "    get, grep, grepl, intersect, is.unsorted, lapply, Map, mapply,\n",
      "    match, mget, order, paste, pmax, pmax.int, pmin, pmin.int,\n",
      "    Position, rank, rbind, Reduce, rownames, sapply, setdiff, sort,\n",
      "    table, tapply, union, unique, unsplit, which.max, which.min\n",
      "\n",
      "\n",
      "Loading required package: S4Vectors\n",
      "\n",
      "\n",
      "Attaching package: ‘S4Vectors’\n",
      "\n",
      "\n",
      "The following objects are masked from ‘package:dplyr’:\n",
      "\n",
      "    first, rename\n",
      "\n",
      "\n",
      "The following object is masked from ‘package:tidyr’:\n",
      "\n",
      "    expand\n",
      "\n",
      "\n",
      "The following objects are masked from ‘package:base’:\n",
      "\n",
      "    expand.grid, I, unname\n",
      "\n",
      "\n",
      "Loading required package: IRanges\n",
      "\n",
      "\n",
      "Attaching package: ‘IRanges’\n",
      "\n",
      "\n",
      "The following objects are masked from ‘package:dplyr’:\n",
      "\n",
      "    collapse, desc, slice\n",
      "\n",
      "\n",
      "Loading required package: GenomeInfoDb\n",
      "\n",
      "Loading required package: Biobase\n",
      "\n",
      "Welcome to Bioconductor\n",
      "\n",
      "    Vignettes contain introductory material; view with\n",
      "    'browseVignettes()'. To cite Bioconductor, see\n",
      "    'citation(\"Biobase\")', and for packages 'citation(\"pkgname\")'.\n",
      "\n",
      "\n",
      "\n",
      "Attaching package: ‘Biobase’\n",
      "\n",
      "\n",
      "The following object is masked from ‘package:MatrixGenerics’:\n",
      "\n",
      "    rowMedians\n",
      "\n",
      "\n",
      "The following objects are masked from ‘package:matrixStats’:\n",
      "\n",
      "    anyMissing, rowMedians\n",
      "\n",
      "\n",
      "\n",
      "Attaching package: ‘SummarizedExperiment’\n",
      "\n",
      "\n",
      "The following object is masked from ‘package:SeuratObject’:\n",
      "\n",
      "    Assays\n",
      "\n",
      "\n",
      "The following object is masked from ‘package:Seurat’:\n",
      "\n",
      "    Assays\n",
      "\n",
      "\n",
      "\u001b[1m\u001b[22m\u001b[36mℹ\u001b[39m Reloading attached \u001b[34mscFeatAgg\u001b[39m\n",
      "Loading required package: Signac\n",
      "\n"
     ]
    }
   ],
   "source": [
    "devtools::load_all(path=\"~/public/SiyuanLuo/projects/benchmark/scripts/feature_engineering/scFeatAgg\")\n",
    "devtools::reload(pkg =\"~/public/SiyuanLuo/projects/benchmark/scripts/feature_engineering/scFeatAgg\", quiet = FALSE)\n",
    "\n",
    "require(Signac)\n",
    "require(Seurat)\n",
    "require(SingleCellExperiment)\n"
   ]
  },
  {
   "cell_type": "code",
   "execution_count": 6,
   "metadata": {
    "collapsed": false,
    "pycharm": {
     "name": "#%%\n"
    },
    "vscode": {
     "languageId": "r"
    }
   },
   "outputs": [],
   "source": [
    "library(tidyr)"
   ]
  },
  {
   "cell_type": "markdown",
   "metadata": {
    "pycharm": {
     "name": "#%% md\n"
    }
   },
   "source": [
    "# Check the meta-peak clusters (PBMC)"
   ]
  },
  {
   "cell_type": "markdown",
   "metadata": {
    "pycharm": {
     "name": "#%% md\n"
    }
   },
   "source": [
    "(For protein encoding genes vs others)"
   ]
  },
  {
   "cell_type": "code",
   "execution_count": 7,
   "metadata": {
    "pycharm": {
     "name": "#%%\n"
    },
    "vscode": {
     "languageId": "r"
    }
   },
   "outputs": [],
   "source": [
    "input <- \"~/public/SiyuanLuo/projects/benchmark/outputs/PBMC_multiomics/PBMC_multiomics/feature_engineering/R/aggregation/default/500/default/30.RDS\"\n",
    "sobj <- readRDS(input)"
   ]
  },
  {
   "cell_type": "code",
   "execution_count": 8,
   "metadata": {
    "collapsed": false,
    "pycharm": {
     "name": "#%%\n"
    },
    "vscode": {
     "languageId": "r"
    }
   },
   "outputs": [
    {
     "data": {
      "text/html": [
       "<table class=\"dataframe\">\n",
       "<caption>A data.frame: 6 × 3</caption>\n",
       "<thead>\n",
       "\t<tr><th></th><th scope=col>count</th><th scope=col>percentile</th><th scope=col>feature_groups</th></tr>\n",
       "\t<tr><th></th><th scope=col>&lt;dbl&gt;</th><th scope=col>&lt;dbl&gt;</th><th scope=col>&lt;int&gt;</th></tr>\n",
       "</thead>\n",
       "<tbody>\n",
       "\t<tr><th scope=row>chr1-9985-10251</th><td>51</td><td>0.2323341</td><td>807</td></tr>\n",
       "\t<tr><th scope=row>chr1-180779-180978</th><td>55</td><td>0.2521977</td><td>607</td></tr>\n",
       "\t<tr><th scope=row>chr1-181310-181570</th><td>52</td><td>0.2373054</td><td> 27</td></tr>\n",
       "\t<tr><th scope=row>chr1-191306-191746</th><td>45</td><td>0.2026995</td><td>615</td></tr>\n",
       "\t<tr><th scope=row>chr1-267869-268178</th><td>80</td><td>0.3510154</td><td>978</td></tr>\n",
       "\t<tr><th scope=row>chr1-271171-271388</th><td>45</td><td>0.2026995</td><td>264</td></tr>\n",
       "</tbody>\n",
       "</table>\n"
      ],
      "text/latex": [
       "A data.frame: 6 × 3\n",
       "\\begin{tabular}{r|lll}\n",
       "  & count & percentile & feature\\_groups\\\\\n",
       "  & <dbl> & <dbl> & <int>\\\\\n",
       "\\hline\n",
       "\tchr1-9985-10251 & 51 & 0.2323341 & 807\\\\\n",
       "\tchr1-180779-180978 & 55 & 0.2521977 & 607\\\\\n",
       "\tchr1-181310-181570 & 52 & 0.2373054 &  27\\\\\n",
       "\tchr1-191306-191746 & 45 & 0.2026995 & 615\\\\\n",
       "\tchr1-267869-268178 & 80 & 0.3510154 & 978\\\\\n",
       "\tchr1-271171-271388 & 45 & 0.2026995 & 264\\\\\n",
       "\\end{tabular}\n"
      ],
      "text/markdown": [
       "\n",
       "A data.frame: 6 × 3\n",
       "\n",
       "| <!--/--> | count &lt;dbl&gt; | percentile &lt;dbl&gt; | feature_groups &lt;int&gt; |\n",
       "|---|---|---|---|\n",
       "| chr1-9985-10251 | 51 | 0.2323341 | 807 |\n",
       "| chr1-180779-180978 | 55 | 0.2521977 | 607 |\n",
       "| chr1-181310-181570 | 52 | 0.2373054 |  27 |\n",
       "| chr1-191306-191746 | 45 | 0.2026995 | 615 |\n",
       "| chr1-267869-268178 | 80 | 0.3510154 | 978 |\n",
       "| chr1-271171-271388 | 45 | 0.2026995 | 264 |\n",
       "\n"
      ],
      "text/plain": [
       "                   count percentile feature_groups\n",
       "chr1-9985-10251    51    0.2323341  807           \n",
       "chr1-180779-180978 55    0.2521977  607           \n",
       "chr1-181310-181570 52    0.2373054   27           \n",
       "chr1-191306-191746 45    0.2026995  615           \n",
       "chr1-267869-268178 80    0.3510154  978           \n",
       "chr1-271171-271388 45    0.2026995  264           "
      ]
     },
     "metadata": {},
     "output_type": "display_data"
    }
   ],
   "source": [
    "head(sobj[[DefaultAssay(sobj)]][[]])\n",
    "df_features <- sobj[[DefaultAssay(sobj)]][[]]"
   ]
  },
  {
   "cell_type": "code",
   "execution_count": 9,
   "metadata": {
    "collapsed": false,
    "pycharm": {
     "name": "#%%\n"
    },
    "vscode": {
     "languageId": "r"
    }
   },
   "outputs": [],
   "source": [
    "df_features$peak <- rownames(df_features)"
   ]
  },
  {
   "cell_type": "code",
   "execution_count": 10,
   "metadata": {
    "collapsed": false,
    "pycharm": {
     "name": "#%%\n"
    },
    "vscode": {
     "languageId": "r"
    }
   },
   "outputs": [],
   "source": [
    "df_features <- df_features %>%\n",
    "  separate(peak, c(\"chr\", \"start\", \"end\"), sep=\"-\")\n",
    "\n",
    "df_features$end <- as.numeric(df_features$end)\n",
    "df_features$start <- as.numeric(df_features$start)\n",
    "df_features$length <- df_features$end - df_features$start"
   ]
  },
  {
   "cell_type": "code",
   "execution_count": 11,
   "metadata": {
    "collapsed": false,
    "pycharm": {
     "name": "#%%\n"
    },
    "vscode": {
     "languageId": "r"
    }
   },
   "outputs": [
    {
     "data": {
      "image/png": "[encoded data removed]",
      "text/plain": [
       "Plot with title “Histogram of df_features$length”"
      ]
     },
     "metadata": {
      "image/png": {
       "height": 240,
       "width": 240
      }
     },
     "output_type": "display_data"
    }
   ],
   "source": [
    "options(repr.plot.width=4, repr.plot.height=4)\n",
    "hist(df_features$length)"
   ]
  },
  {
   "cell_type": "code",
   "execution_count": 12,
   "metadata": {
    "collapsed": false,
    "pycharm": {
     "name": "#%%\n"
    },
    "vscode": {
     "languageId": "r"
    }
   },
   "outputs": [
    {
     "data": {
      "text/html": [
       "<table class=\"dataframe\">\n",
       "<caption>A data.frame: 6 × 7</caption>\n",
       "<thead>\n",
       "\t<tr><th></th><th scope=col>count</th><th scope=col>percentile</th><th scope=col>feature_groups</th><th scope=col>chr</th><th scope=col>start</th><th scope=col>end</th><th scope=col>length</th></tr>\n",
       "\t<tr><th></th><th scope=col>&lt;dbl&gt;</th><th scope=col>&lt;dbl&gt;</th><th scope=col>&lt;int&gt;</th><th scope=col>&lt;chr&gt;</th><th scope=col>&lt;dbl&gt;</th><th scope=col>&lt;dbl&gt;</th><th scope=col>&lt;dbl&gt;</th></tr>\n",
       "</thead>\n",
       "<tbody>\n",
       "\t<tr><th scope=row>chr1-9985-10251</th><td>51</td><td>0.2323341</td><td>807</td><td>chr1</td><td>  9985</td><td> 10251</td><td>266</td></tr>\n",
       "\t<tr><th scope=row>chr1-180779-180978</th><td>55</td><td>0.2521977</td><td>607</td><td>chr1</td><td>180779</td><td>180978</td><td>199</td></tr>\n",
       "\t<tr><th scope=row>chr1-181310-181570</th><td>52</td><td>0.2373054</td><td> 27</td><td>chr1</td><td>181310</td><td>181570</td><td>260</td></tr>\n",
       "\t<tr><th scope=row>chr1-191306-191746</th><td>45</td><td>0.2026995</td><td>615</td><td>chr1</td><td>191306</td><td>191746</td><td>440</td></tr>\n",
       "\t<tr><th scope=row>chr1-267869-268178</th><td>80</td><td>0.3510154</td><td>978</td><td>chr1</td><td>267869</td><td>268178</td><td>309</td></tr>\n",
       "\t<tr><th scope=row>chr1-271171-271388</th><td>45</td><td>0.2026995</td><td>264</td><td>chr1</td><td>271171</td><td>271388</td><td>217</td></tr>\n",
       "</tbody>\n",
       "</table>\n"
      ],
      "text/latex": [
       "A data.frame: 6 × 7\n",
       "\\begin{tabular}{r|lllllll}\n",
       "  & count & percentile & feature\\_groups & chr & start & end & length\\\\\n",
       "  & <dbl> & <dbl> & <int> & <chr> & <dbl> & <dbl> & <dbl>\\\\\n",
       "\\hline\n",
       "\tchr1-9985-10251 & 51 & 0.2323341 & 807 & chr1 &   9985 &  10251 & 266\\\\\n",
       "\tchr1-180779-180978 & 55 & 0.2521977 & 607 & chr1 & 180779 & 180978 & 199\\\\\n",
       "\tchr1-181310-181570 & 52 & 0.2373054 &  27 & chr1 & 181310 & 181570 & 260\\\\\n",
       "\tchr1-191306-191746 & 45 & 0.2026995 & 615 & chr1 & 191306 & 191746 & 440\\\\\n",
       "\tchr1-267869-268178 & 80 & 0.3510154 & 978 & chr1 & 267869 & 268178 & 309\\\\\n",
       "\tchr1-271171-271388 & 45 & 0.2026995 & 264 & chr1 & 271171 & 271388 & 217\\\\\n",
       "\\end{tabular}\n"
      ],
      "text/markdown": [
       "\n",
       "A data.frame: 6 × 7\n",
       "\n",
       "| <!--/--> | count &lt;dbl&gt; | percentile &lt;dbl&gt; | feature_groups &lt;int&gt; | chr &lt;chr&gt; | start &lt;dbl&gt; | end &lt;dbl&gt; | length &lt;dbl&gt; |\n",
       "|---|---|---|---|---|---|---|---|\n",
       "| chr1-9985-10251 | 51 | 0.2323341 | 807 | chr1 |   9985 |  10251 | 266 |\n",
       "| chr1-180779-180978 | 55 | 0.2521977 | 607 | chr1 | 180779 | 180978 | 199 |\n",
       "| chr1-181310-181570 | 52 | 0.2373054 |  27 | chr1 | 181310 | 181570 | 260 |\n",
       "| chr1-191306-191746 | 45 | 0.2026995 | 615 | chr1 | 191306 | 191746 | 440 |\n",
       "| chr1-267869-268178 | 80 | 0.3510154 | 978 | chr1 | 267869 | 268178 | 309 |\n",
       "| chr1-271171-271388 | 45 | 0.2026995 | 264 | chr1 | 271171 | 271388 | 217 |\n",
       "\n"
      ],
      "text/plain": [
       "                   count percentile feature_groups chr  start  end    length\n",
       "chr1-9985-10251    51    0.2323341  807            chr1   9985  10251 266   \n",
       "chr1-180779-180978 55    0.2521977  607            chr1 180779 180978 199   \n",
       "chr1-181310-181570 52    0.2373054   27            chr1 181310 181570 260   \n",
       "chr1-191306-191746 45    0.2026995  615            chr1 191306 191746 440   \n",
       "chr1-267869-268178 80    0.3510154  978            chr1 267869 268178 309   \n",
       "chr1-271171-271388 45    0.2026995  264            chr1 271171 271388 217   "
      ]
     },
     "metadata": {},
     "output_type": "display_data"
    }
   ],
   "source": [
    "head(df_features)"
   ]
  },
  {
   "cell_type": "code",
   "execution_count": 34,
   "metadata": {
    "vscode": {
     "languageId": "r"
    }
   },
   "outputs": [],
   "source": [
    "suppressPackageStartupMessages({\n",
    "  library(stringr)\n",
    "  library(ChIPseeker)\n",
    "  library(ChIPpeakAnno)\n",
    "  library(GenomicRanges)\n",
    "  library(tidyverse)\n",
    "  library(pheatmap)\n",
    "  library(RColorBrewer)\n",
    "  library(TxDb.Mmusculus.UCSC.mm10.knownGene)\n",
    "  library(TxDb.Hsapiens.UCSC.hg38.knownGene)\n",
    "  library(optparse)\n",
    "  library(EnsDb.Hsapiens.v86)\n",
    "})"
   ]
  },
  {
   "cell_type": "code",
   "execution_count": 14,
   "metadata": {
    "vscode": {
     "languageId": "r"
    }
   },
   "outputs": [],
   "source": [
    "# Calculate overlapping peaks for each mark\n",
    "peakInfo <- df_features\n",
    "histGR <- GRanges(gsub(\"chr\", \"\", peakInfo$chr), IRanges(start = peakInfo$start, end = peakInfo$end), strand = \"*\")"
   ]
  },
  {
   "cell_type": "code",
   "execution_count": 15,
   "metadata": {
    "vscode": {
     "languageId": "r"
    }
   },
   "outputs": [],
   "source": [
    "histGR <- renameSeqlevels(histGR, mapSeqlevels(seqlevels(histGR), \"UCSC\"))"
   ]
  },
  {
   "cell_type": "code",
   "execution_count": 16,
   "metadata": {
    "vscode": {
     "languageId": "r"
    }
   },
   "outputs": [
    {
     "data": {
      "text/plain": [
       "GRanges object with 139803 ranges and 0 metadata columns:\n",
       "           seqnames              ranges strand\n",
       "              <Rle>           <IRanges>  <Rle>\n",
       "       [1]     chr1          9985-10251      *\n",
       "       [2]     chr1       180779-180978      *\n",
       "       [3]     chr1       181310-181570      *\n",
       "       [4]     chr1       191306-191746      *\n",
       "       [5]     chr1       267869-268178      *\n",
       "       ...      ...                 ...    ...\n",
       "  [139799]     chrX 155891300-155891765      *\n",
       "  [139800]     chrX 155966920-155967163      *\n",
       "  [139801]     chrX 155997259-155997776      *\n",
       "  [139802]     chrX 156001634-156001833      *\n",
       "  [139803]     chrX 156030480-156030685      *\n",
       "  -------\n",
       "  seqinfo: 23 sequences from an unspecified genome; no seqlengths"
      ]
     },
     "metadata": {},
     "output_type": "display_data"
    }
   ],
   "source": [
    "histGR"
   ]
  },
  {
   "cell_type": "code",
   "execution_count": 17,
   "metadata": {
    "vscode": {
     "languageId": "r"
    }
   },
   "outputs": [
    {
     "name": "stdout",
     "output_type": "stream",
     "text": [
      ">> preparing features information...\t\t 2023-04-21 12:29:44 \n",
      ">> identifying nearest features...\t\t 2023-04-21 12:29:45 \n",
      ">> calculating distance from peak to TSS...\t 2023-04-21 12:29:46 \n",
      ">> assigning genomic annotation...\t\t 2023-04-21 12:29:46 \n",
      ">> adding gene annotation...\t\t\t 2023-04-21 12:30:12 \n"
     ]
    },
    {
     "name": "stderr",
     "output_type": "stream",
     "text": [
      "Loading required package: org.Hs.eg.db\n",
      "\n",
      "\n",
      "\n",
      "'select()' returned 1:many mapping between keys and columns\n",
      "\n"
     ]
    },
    {
     "name": "stdout",
     "output_type": "stream",
     "text": [
      ">> assigning chromosome lengths\t\t\t 2023-04-21 12:30:13 \n",
      ">> done...\t\t\t\t\t 2023-04-21 12:30:13 \n"
     ]
    }
   ],
   "source": [
    "peakAnno <- annotatePeak(histGR, tssRegion=c(-2000, 2000),\n",
    "                         TxDb=TxDb.Hsapiens.UCSC.hg38.knownGene, annoDb=\"org.Hs.eg.db\")"
   ]
  },
  {
   "cell_type": "code",
   "execution_count": 26,
   "metadata": {
    "vscode": {
     "languageId": "r"
    }
   },
   "outputs": [
    {
     "data": {
      "text/plain": [
       "Annotated peaks generated by ChIPseeker\n",
       "139803/139803  peaks were annotated\n",
       "Genomic Annotation Summary:\n",
       "              Feature  Frequency\n",
       "9    Promoter (<=1kb) 20.3407652\n",
       "10   Promoter (1-2kb)  5.3339342\n",
       "4              5' UTR  0.3540697\n",
       "3              3' UTR  2.7066658\n",
       "1            1st Exon  1.3612011\n",
       "7          Other Exon  3.2724620\n",
       "2          1st Intron 14.8945302\n",
       "8        Other Intron 27.5358898\n",
       "6  Downstream (<=300)  0.1373361\n",
       "5   Distal Intergenic 24.0631460"
      ]
     },
     "metadata": {},
     "output_type": "display_data"
    }
   ],
   "source": [
    "peakAnno"
   ]
  },
  {
   "cell_type": "code",
   "execution_count": 23,
   "metadata": {
    "vscode": {
     "languageId": "r"
    }
   },
   "outputs": [
    {
     "data": {
      "image/png": "[encoded data removed]",
      "text/plain": [
       "plot without title"
      ]
     },
     "metadata": {
      "image/png": {
       "height": 360,
       "width": 480
      }
     },
     "output_type": "display_data"
    }
   ],
   "source": [
    "options(repr.plot.width=8, repr.plot.height=6)\n",
    "plotAnnoPie(peakAnno)"
   ]
  },
  {
   "cell_type": "code",
   "execution_count": 24,
   "metadata": {
    "vscode": {
     "languageId": "r"
    }
   },
   "outputs": [
    {
     "data": {
      "image/png": "[encoded data removed]",
      "text/plain": [
       "plot without title"
      ]
     },
     "metadata": {
      "image/png": {
       "height": 360,
       "width": 480
      }
     },
     "output_type": "display_data"
    }
   ],
   "source": [
    "plotDistToTSS(peakAnno)"
   ]
  },
  {
   "attachments": {},
   "cell_type": "markdown",
   "metadata": {},
   "source": [
    "**Check for specific peak clusters:**"
   ]
  },
  {
   "cell_type": "code",
   "execution_count": 138,
   "metadata": {
    "vscode": {
     "languageId": "r"
    }
   },
   "outputs": [
    {
     "data": {
      "image/png": "[encoded data removed]",
      "text/plain": [
       "Plot with title \"Histogram of feature group size\""
      ]
     },
     "metadata": {
      "image/png": {
       "height": 360,
       "width": 480
      }
     },
     "output_type": "display_data"
    }
   ],
   "source": [
    "# group size distribution\n",
    "hist(table(df_features$feature_groups), breaks=50, main=\"Histogram of feature group size\")"
   ]
  },
  {
   "cell_type": "code",
   "execution_count": 132,
   "metadata": {
    "vscode": {
     "languageId": "r"
    }
   },
   "outputs": [
    {
     "data": {
      "text/html": [
       "<style>\n",
       ".list-inline {list-style: none; margin:0; padding: 0}\n",
       ".list-inline>li {display: inline-block}\n",
       ".list-inline>li:not(:last-child)::after {content: \"\\00b7\"; padding: 0 .5ex}\n",
       "</style>\n",
       "<ol class=list-inline><li>139803</li><li>7</li></ol>\n"
      ],
      "text/latex": [
       "\\begin{enumerate*}\n",
       "\\item 139803\n",
       "\\item 7\n",
       "\\end{enumerate*}\n"
      ],
      "text/markdown": [
       "1. 139803\n",
       "2. 7\n",
       "\n",
       "\n"
      ],
      "text/plain": [
       "[1] 139803      7"
      ]
     },
     "metadata": {},
     "output_type": "display_data"
    },
    {
     "data": {
      "text/html": [
       "<style>\n",
       ".list-inline {list-style: none; margin:0; padding: 0}\n",
       ".list-inline>li {display: inline-block}\n",
       ".list-inline>li:not(:last-child)::after {content: \"\\00b7\"; padding: 0 .5ex}\n",
       "</style>\n",
       "<ol class=list-inline><li>139639</li><li>7</li></ol>\n"
      ],
      "text/latex": [
       "\\begin{enumerate*}\n",
       "\\item 139639\n",
       "\\item 7\n",
       "\\end{enumerate*}\n"
      ],
      "text/markdown": [
       "1. 139639\n",
       "2. 7\n",
       "\n",
       "\n"
      ],
      "text/plain": [
       "[1] 139639      7"
      ]
     },
     "metadata": {},
     "output_type": "display_data"
    },
    {
     "data": {
      "text/html": [
       "164"
      ],
      "text/latex": [
       "164"
      ],
      "text/markdown": [
       "164"
      ],
      "text/plain": [
       "[1] 164"
      ]
     },
     "metadata": {},
     "output_type": "display_data"
    }
   ],
   "source": [
    "df_features_sub <- na.omit(df_features)\n",
    "dim(df_features)\n",
    "dim(df_features_sub)\n",
    "dim(df_features)[1] - dim(df_features_sub)[1]"
   ]
  },
  {
   "attachments": {},
   "cell_type": "markdown",
   "metadata": {},
   "source": [
    "**Only 164 peaks are not assigned to any peak clusters.**"
   ]
  },
  {
   "attachments": {},
   "cell_type": "markdown",
   "metadata": {},
   "source": [
    "## Have a look at the annotation of the first 5 clusters"
   ]
  },
  {
   "cell_type": "code",
   "execution_count": 92,
   "metadata": {
    "vscode": {
     "languageId": "r"
    }
   },
   "outputs": [
    {
     "name": "stdout",
     "output_type": "stream",
     "text": [
      ">> preparing features information...\t\t 2023-04-21 14:37:12 \n",
      ">> identifying nearest features...\t\t 2023-04-21 14:37:12 \n",
      ">> calculating distance from peak to TSS...\t 2023-04-21 14:37:13 \n",
      ">> assigning genomic annotation...\t\t 2023-04-21 14:37:13 \n",
      ">> adding gene annotation...\t\t\t 2023-04-21 14:37:16 \n"
     ]
    },
    {
     "name": "stderr",
     "output_type": "stream",
     "text": [
      "'select()' returned 1:many mapping between keys and columns\n",
      "\n"
     ]
    },
    {
     "name": "stdout",
     "output_type": "stream",
     "text": [
      ">> assigning chromosome lengths\t\t\t 2023-04-21 14:37:16 \n",
      ">> done...\t\t\t\t\t 2023-04-21 14:37:16 \n",
      ">> preparing features information...\t\t 2023-04-21 14:37:16 \n",
      ">> identifying nearest features...\t\t 2023-04-21 14:37:16 \n",
      ">> calculating distance from peak to TSS...\t 2023-04-21 14:37:17 \n",
      ">> assigning genomic annotation...\t\t 2023-04-21 14:37:17 \n",
      ">> adding gene annotation...\t\t\t 2023-04-21 14:37:21 \n"
     ]
    },
    {
     "name": "stderr",
     "output_type": "stream",
     "text": [
      "'select()' returned 1:many mapping between keys and columns\n",
      "\n"
     ]
    },
    {
     "name": "stdout",
     "output_type": "stream",
     "text": [
      ">> assigning chromosome lengths\t\t\t 2023-04-21 14:37:21 \n",
      ">> done...\t\t\t\t\t 2023-04-21 14:37:21 \n",
      ">> preparing features information...\t\t 2023-04-21 14:37:21 \n",
      ">> identifying nearest features...\t\t 2023-04-21 14:37:21 \n",
      ">> calculating distance from peak to TSS...\t 2023-04-21 14:37:21 \n",
      ">> assigning genomic annotation...\t\t 2023-04-21 14:37:21 \n",
      ">> adding gene annotation...\t\t\t 2023-04-21 14:37:25 \n"
     ]
    },
    {
     "name": "stderr",
     "output_type": "stream",
     "text": [
      "'select()' returned 1:many mapping between keys and columns\n",
      "\n"
     ]
    },
    {
     "name": "stdout",
     "output_type": "stream",
     "text": [
      ">> assigning chromosome lengths\t\t\t 2023-04-21 14:37:25 \n",
      ">> done...\t\t\t\t\t 2023-04-21 14:37:25 \n",
      ">> preparing features information...\t\t 2023-04-21 14:37:25 \n",
      ">> identifying nearest features...\t\t 2023-04-21 14:37:25 \n",
      ">> calculating distance from peak to TSS...\t 2023-04-21 14:37:25 \n",
      ">> assigning genomic annotation...\t\t 2023-04-21 14:37:25 \n",
      ">> adding gene annotation...\t\t\t 2023-04-21 14:37:29 \n"
     ]
    },
    {
     "name": "stderr",
     "output_type": "stream",
     "text": [
      "'select()' returned 1:many mapping between keys and columns\n",
      "\n"
     ]
    },
    {
     "name": "stdout",
     "output_type": "stream",
     "text": [
      ">> assigning chromosome lengths\t\t\t 2023-04-21 14:37:29 \n",
      ">> done...\t\t\t\t\t 2023-04-21 14:37:29 \n",
      ">> preparing features information...\t\t 2023-04-21 14:37:29 \n",
      ">> identifying nearest features...\t\t 2023-04-21 14:37:29 \n",
      ">> calculating distance from peak to TSS...\t 2023-04-21 14:37:29 \n",
      ">> assigning genomic annotation...\t\t 2023-04-21 14:37:29 \n",
      ">> adding gene annotation...\t\t\t 2023-04-21 14:37:33 \n"
     ]
    },
    {
     "name": "stderr",
     "output_type": "stream",
     "text": [
      "'select()' returned 1:many mapping between keys and columns\n",
      "\n"
     ]
    },
    {
     "name": "stdout",
     "output_type": "stream",
     "text": [
      ">> assigning chromosome lengths\t\t\t 2023-04-21 14:37:33 \n",
      ">> done...\t\t\t\t\t 2023-04-21 14:37:33 \n"
     ]
    },
    {
     "name": "stderr",
     "output_type": "stream",
     "text": [
      "Warning message in plotAnnoBar(peakAnno_ls):\n",
      "\"input is not a named list, set the name automatically to Peak1 Peak2 Peak3 Peak4 Peak5\"\n"
     ]
    },
    {
     "data": {
      "image/png": "[encoded data removed]",
      "text/plain": [
       "plot without title"
      ]
     },
     "metadata": {
      "image/png": {
       "height": 360,
       "width": 480
      }
     },
     "output_type": "display_data"
    }
   ],
   "source": [
    "peakInfo_ls <- lapply(1:5, function(x){df_features_sub[df_features_sub$feature_groups==x,]})\n",
    "histGR_ls <- lapply(peakInfo_ls, function(x){GRanges(gsub(\"chr\", \"\", x$chr), IRanges(start = x$start, end = x$end), strand = \"*\")})\n",
    "histGR_ls <- lapply(histGR_ls, function(x){renameSeqlevels(x, mapSeqlevels(seqlevels(x), \"UCSC\"))})\n",
    "peakAnno_ls <- lapply(histGR_ls, function(x){annotatePeak(x, tssRegion=c(-2000, 2000),\n",
    "                         TxDb=TxDb.Hsapiens.UCSC.hg38.knownGene, annoDb=\"org.Hs.eg.db\")})\n",
    "plotAnnoBar(peakAnno_ls)"
   ]
  },
  {
   "cell_type": "code",
   "execution_count": 98,
   "metadata": {
    "vscode": {
     "languageId": "r"
    }
   },
   "outputs": [],
   "source": [
    "list_to_dataframe <- function(dataList) {\n",
    "    if (is.null(names(dataList)))\n",
    "        return(do.call('rbind', dataList))\n",
    "\n",
    "    cn <- lapply(dataList, colnames) %>% unlist %>% unique\n",
    "    cn <- c('.id', cn)\n",
    "    dataList2 <- lapply(seq_along(dataList), function(i) {\n",
    "        data = dataList[[i]]\n",
    "        data$.id = names(dataList)[i]\n",
    "        idx <- ! cn %in% colnames(data)\n",
    "        if (sum(idx) > 0) {\n",
    "            for (i in cn[idx]) {\n",
    "                data[, i] <- NA\n",
    "            }\n",
    "        }\n",
    "        return(data[,cn])\n",
    "    })\n",
    "    res <- do.call('rbind', dataList2)\n",
    "    res$.id <- factor(res$.id, levels=rev(names(dataList)))\n",
    "    return(res)\n",
    "}"
   ]
  },
  {
   "cell_type": "code",
   "execution_count": 100,
   "metadata": {
    "vscode": {
     "languageId": "r"
    }
   },
   "outputs": [],
   "source": [
    "plotAnnoBar.data.frame <- function(anno.df,\n",
    "                                   xlab=\"\",\n",
    "                                   ylab=\"Percentage(%)\",\n",
    "                                   title=\"Feature Distribution\",\n",
    "                                   categoryColumn) {\n",
    "\n",
    "\n",
    "    anno.df$Feature <- factor(anno.df$Feature, levels = rev(levels(anno.df$Feature)))\n",
    "\n",
    "    p <- ggplot(anno.df, aes_string(x = categoryColumn,\n",
    "                                    fill = \"Feature\",\n",
    "                                    y = \"Frequency\"))\n",
    "\n",
    "    p <- p + geom_bar(stat=\"identity\") + coord_flip() + theme_bw()\n",
    "    p <- p + ylab(ylab) + xlab(xlab) + ggtitle(title)\n",
    "\n",
    "    if (categoryColumn == 1) {\n",
    "        p <- p + scale_x_continuous(breaks=NULL)\n",
    "        p <- p+scale_fill_manual(values=rev(getCols(nrow(anno.df))), guide=guide_legend(reverse=TRUE))\n",
    "    } else {\n",
    "        p <- p+scale_fill_manual(values=rev(getCols(length(unique(anno.df$Feature)))), guide=guide_legend(reverse=TRUE))\n",
    "    }\n",
    "\n",
    "    return(p)\n",
    "}"
   ]
  },
  {
   "cell_type": "code",
   "execution_count": 129,
   "metadata": {
    "vscode": {
     "languageId": "r"
    }
   },
   "outputs": [],
   "source": [
    "getCols <- function(n) {\n",
    "    col <- c(\"#8dd3c7\", \"#ffffb3\", \"#bebada\",\n",
    "             \"#fb8072\", \"#80b1d3\", \"#fdb462\",\n",
    "             \"#b3de69\", \"#fccde5\", \"#d9d9d9\",\n",
    "             \"#bc80bd\", \"#ccebc5\", \"#ffed6f\")\n",
    "\n",
    "    col2 <- c(\"#1f78b4\", \"#ffff33\", \"#c2a5cf\",\n",
    "             \"#ff7f00\", \"#810f7c\", \"#a6cee3\",\n",
    "             \"#006d2c\", \"#4d4d4d\", \"#8c510a\",\n",
    "             \"#d73027\", \"#78c679\", \"#7f0000\",\n",
    "             \"#41b6c4\", \"#e7298a\", \"#54278f\")\n",
    "\n",
    "    col3 <- c(\"#a6cee3\", \"#1f78b4\", \"#b2df8a\",\n",
    "              \"#33a02c\", \"#fb9a99\", \"#e31a1c\",\n",
    "              \"#fdbf6f\", \"#ff7f00\", \"#cab2d6\",\n",
    "              \"#6a3d9a\", \"#ffff99\", \"#b15928\")\n",
    "\n",
    "    ## colorRampPalette(brewer.pal(12, \"Set3\"))(n)\n",
    "    c(col, col2, col3)[1:n]\n",
    "}"
   ]
  },
  {
   "cell_type": "code",
   "execution_count": 127,
   "metadata": {
    "vscode": {
     "languageId": "r"
    }
   },
   "outputs": [],
   "source": [
    "getChrStat <- function(peakAnno){\n",
    "    freq <- as.data.frame(table(peakAnno@anno@seqnames)/length(peakAnno@anno@seqnames))\n",
    "    colnames(freq) <- c(\"Feature\", \"Frequency\")\n",
    "    return(freq)\n",
    "}"
   ]
  },
  {
   "cell_type": "code",
   "execution_count": 130,
   "metadata": {
    "vscode": {
     "languageId": "r"
    }
   },
   "outputs": [
    {
     "data": {
      "image/png": "[encoded data removed]",
      "text/plain": [
       "plot without title"
      ]
     },
     "metadata": {
      "image/png": {
       "height": 360,
       "width": 480
      }
     },
     "output_type": "display_data"
    }
   ],
   "source": [
    "categoryColumn <- \".id\"\n",
    "if (is.null(names(peakAnno_ls))) {\n",
    "                  nn <- paste0(\"Peak\", seq_along(peakAnno_ls))\n",
    "                  warning(\"input is not a named list, set the name automatically to \", paste(nn, collapse = \" \"))\n",
    "                  names(peakAnno_ls) <- nn\n",
    "                  ## stop(\"input object should be a named list...\")\n",
    "              }\n",
    "anno <- lapply(peakAnno_ls, getChrStat)\n",
    "anno.df <- list_to_dataframe(anno)\n",
    "plotAnnoBar.data.frame(anno.df, xlab=\"\", ylab='Percentage(%)', title=\"Feature Distribution\", categoryColumn)"
   ]
  },
  {
   "cell_type": "code",
   "execution_count": 131,
   "metadata": {
    "vscode": {
     "languageId": "r"
    }
   },
   "outputs": [
    {
     "data": {
      "text/html": [
       "<table class=\"dataframe\">\n",
       "<caption>A data.frame: 6 × 17</caption>\n",
       "<thead>\n",
       "\t<tr><th></th><th scope=col>seqnames</th><th scope=col>start</th><th scope=col>end</th><th scope=col>width</th><th scope=col>strand</th><th scope=col>annotation</th><th scope=col>geneChr</th><th scope=col>geneStart</th><th scope=col>geneEnd</th><th scope=col>geneLength</th><th scope=col>geneStrand</th><th scope=col>geneId</th><th scope=col>transcriptId</th><th scope=col>distanceToTSS</th><th scope=col>ENSEMBL</th><th scope=col>SYMBOL</th><th scope=col>GENENAME</th></tr>\n",
       "\t<tr><th></th><th scope=col>&lt;fct&gt;</th><th scope=col>&lt;int&gt;</th><th scope=col>&lt;int&gt;</th><th scope=col>&lt;int&gt;</th><th scope=col>&lt;fct&gt;</th><th scope=col>&lt;chr&gt;</th><th scope=col>&lt;int&gt;</th><th scope=col>&lt;int&gt;</th><th scope=col>&lt;int&gt;</th><th scope=col>&lt;int&gt;</th><th scope=col>&lt;int&gt;</th><th scope=col>&lt;chr&gt;</th><th scope=col>&lt;chr&gt;</th><th scope=col>&lt;dbl&gt;</th><th scope=col>&lt;chr&gt;</th><th scope=col>&lt;chr&gt;</th><th scope=col>&lt;chr&gt;</th></tr>\n",
       "</thead>\n",
       "<tbody>\n",
       "\t<tr><th scope=row>1</th><td>chr1</td><td> 22075660</td><td> 22076170</td><td>511</td><td>*</td><td><span style=white-space:pre-wrap>Promoter (&lt;=1kb)                               </span></td><td>1</td><td> 22076334</td><td> 22092942</td><td> 16609</td><td>1</td><td><span style=white-space:pre-wrap>998   </span></td><td>ENST00000695802.1</td><td><span style=white-space:pre-wrap>  -164</span></td><td>ENSG00000070831</td><td><span style=white-space:pre-wrap>CDC42     </span></td><td><span style=white-space:pre-wrap>cell division cycle 42                                   </span></td></tr>\n",
       "\t<tr><th scope=row>2</th><td>chr1</td><td> 26932058</td><td> 26932906</td><td>849</td><td>*</td><td>Intron (ENST00000435827.6/10726, intron 4 of 6)</td><td>1</td><td> 26922142</td><td> 26942776</td><td> 20635</td><td>1</td><td>10726 </td><td>ENST00000452707.1</td><td>  9916</td><td>ENSG00000090273</td><td>NUDC      </td><td>nuclear distribution C, dynein complex regulator         </td></tr>\n",
       "\t<tr><th scope=row>3</th><td>chr1</td><td> 27369418</td><td> 27370059</td><td>642</td><td>*</td><td>Exon (ENST00000270879.9/8547, exon 8 of 8)     </td><td>1</td><td> 27355184</td><td> 27366961</td><td> 11778</td><td>2</td><td>9064  </td><td>ENST00000357582.3</td><td> -2457</td><td>ENSG00000142733</td><td>MAP3K6    </td><td>mitogen-activated protein kinase kinase kinase 6         </td></tr>\n",
       "\t<tr><th scope=row>4</th><td>chr1</td><td> 76075633</td><td> 76076321</td><td>689</td><td>*</td><td><span style=white-space:pre-wrap>Promoter (&lt;=1kb)                               </span></td><td>1</td><td> 76074746</td><td> 76634603</td><td>559858</td><td>1</td><td>256435</td><td>ENST00000328299.4</td><td><span style=white-space:pre-wrap>   887</span></td><td>ENSG00000184005</td><td>ST6GALNAC3</td><td>ST6 N-acetylgalactosaminide alpha-2,6-sialyltransferase 3</td></tr>\n",
       "\t<tr><th scope=row>5</th><td>chr1</td><td>220887424</td><td>220888206</td><td>783</td><td>*</td><td>Distal Intergenic                              </td><td>1</td><td>220881069</td><td>220884493</td><td>  3425</td><td>1</td><td>3142  </td><td>ENST00000427693.1</td><td>  6355</td><td>ENSG00000136630</td><td>HLX       </td><td>H2.0 like homeobox                                       </td></tr>\n",
       "\t<tr><th scope=row>6</th><td>chr1</td><td>230169572</td><td>230170065</td><td>494</td><td>*</td><td>Intron (ENST00000494106.1/2590, intron 1 of 6) </td><td>1</td><td>230255358</td><td>230282120</td><td> 26763</td><td>1</td><td>2590  </td><td>ENST00000485438.1</td><td>-85293</td><td>ENSG00000143641</td><td>GALNT2    </td><td>polypeptide N-acetylgalactosaminyltransferase 2          </td></tr>\n",
       "</tbody>\n",
       "</table>\n"
      ],
      "text/latex": [
       "A data.frame: 6 × 17\n",
       "\\begin{tabular}{r|lllllllllllllllll}\n",
       "  & seqnames & start & end & width & strand & annotation & geneChr & geneStart & geneEnd & geneLength & geneStrand & geneId & transcriptId & distanceToTSS & ENSEMBL & SYMBOL & GENENAME\\\\\n",
       "  & <fct> & <int> & <int> & <int> & <fct> & <chr> & <int> & <int> & <int> & <int> & <int> & <chr> & <chr> & <dbl> & <chr> & <chr> & <chr>\\\\\n",
       "\\hline\n",
       "\t1 & chr1 &  22075660 &  22076170 & 511 & * & Promoter (<=1kb)                                & 1 &  22076334 &  22092942 &  16609 & 1 & 998    & ENST00000695802.1 &   -164 & ENSG00000070831 & CDC42      & cell division cycle 42                                   \\\\\n",
       "\t2 & chr1 &  26932058 &  26932906 & 849 & * & Intron (ENST00000435827.6/10726, intron 4 of 6) & 1 &  26922142 &  26942776 &  20635 & 1 & 10726  & ENST00000452707.1 &   9916 & ENSG00000090273 & NUDC       & nuclear distribution C, dynein complex regulator         \\\\\n",
       "\t3 & chr1 &  27369418 &  27370059 & 642 & * & Exon (ENST00000270879.9/8547, exon 8 of 8)      & 1 &  27355184 &  27366961 &  11778 & 2 & 9064   & ENST00000357582.3 &  -2457 & ENSG00000142733 & MAP3K6     & mitogen-activated protein kinase kinase kinase 6         \\\\\n",
       "\t4 & chr1 &  76075633 &  76076321 & 689 & * & Promoter (<=1kb)                                & 1 &  76074746 &  76634603 & 559858 & 1 & 256435 & ENST00000328299.4 &    887 & ENSG00000184005 & ST6GALNAC3 & ST6 N-acetylgalactosaminide alpha-2,6-sialyltransferase 3\\\\\n",
       "\t5 & chr1 & 220887424 & 220888206 & 783 & * & Distal Intergenic                               & 1 & 220881069 & 220884493 &   3425 & 1 & 3142   & ENST00000427693.1 &   6355 & ENSG00000136630 & HLX        & H2.0 like homeobox                                       \\\\\n",
       "\t6 & chr1 & 230169572 & 230170065 & 494 & * & Intron (ENST00000494106.1/2590, intron 1 of 6)  & 1 & 230255358 & 230282120 &  26763 & 1 & 2590   & ENST00000485438.1 & -85293 & ENSG00000143641 & GALNT2     & polypeptide N-acetylgalactosaminyltransferase 2          \\\\\n",
       "\\end{tabular}\n"
      ],
      "text/markdown": [
       "\n",
       "A data.frame: 6 × 17\n",
       "\n",
       "| <!--/--> | seqnames &lt;fct&gt; | start &lt;int&gt; | end &lt;int&gt; | width &lt;int&gt; | strand &lt;fct&gt; | annotation &lt;chr&gt; | geneChr &lt;int&gt; | geneStart &lt;int&gt; | geneEnd &lt;int&gt; | geneLength &lt;int&gt; | geneStrand &lt;int&gt; | geneId &lt;chr&gt; | transcriptId &lt;chr&gt; | distanceToTSS &lt;dbl&gt; | ENSEMBL &lt;chr&gt; | SYMBOL &lt;chr&gt; | GENENAME &lt;chr&gt; |\n",
       "|---|---|---|---|---|---|---|---|---|---|---|---|---|---|---|---|---|---|\n",
       "| 1 | chr1 |  22075660 |  22076170 | 511 | * | Promoter (&lt;=1kb)                                | 1 |  22076334 |  22092942 |  16609 | 1 | 998    | ENST00000695802.1 |   -164 | ENSG00000070831 | CDC42      | cell division cycle 42                                    |\n",
       "| 2 | chr1 |  26932058 |  26932906 | 849 | * | Intron (ENST00000435827.6/10726, intron 4 of 6) | 1 |  26922142 |  26942776 |  20635 | 1 | 10726  | ENST00000452707.1 |   9916 | ENSG00000090273 | NUDC       | nuclear distribution C, dynein complex regulator          |\n",
       "| 3 | chr1 |  27369418 |  27370059 | 642 | * | Exon (ENST00000270879.9/8547, exon 8 of 8)      | 1 |  27355184 |  27366961 |  11778 | 2 | 9064   | ENST00000357582.3 |  -2457 | ENSG00000142733 | MAP3K6     | mitogen-activated protein kinase kinase kinase 6          |\n",
       "| 4 | chr1 |  76075633 |  76076321 | 689 | * | Promoter (&lt;=1kb)                                | 1 |  76074746 |  76634603 | 559858 | 1 | 256435 | ENST00000328299.4 |    887 | ENSG00000184005 | ST6GALNAC3 | ST6 N-acetylgalactosaminide alpha-2,6-sialyltransferase 3 |\n",
       "| 5 | chr1 | 220887424 | 220888206 | 783 | * | Distal Intergenic                               | 1 | 220881069 | 220884493 |   3425 | 1 | 3142   | ENST00000427693.1 |   6355 | ENSG00000136630 | HLX        | H2.0 like homeobox                                        |\n",
       "| 6 | chr1 | 230169572 | 230170065 | 494 | * | Intron (ENST00000494106.1/2590, intron 1 of 6)  | 1 | 230255358 | 230282120 |  26763 | 1 | 2590   | ENST00000485438.1 | -85293 | ENSG00000143641 | GALNT2     | polypeptide N-acetylgalactosaminyltransferase 2           |\n",
       "\n"
      ],
      "text/plain": [
       "  seqnames start     end       width strand\n",
       "1 chr1      22075660  22076170 511   *     \n",
       "2 chr1      26932058  26932906 849   *     \n",
       "3 chr1      27369418  27370059 642   *     \n",
       "4 chr1      76075633  76076321 689   *     \n",
       "5 chr1     220887424 220888206 783   *     \n",
       "6 chr1     230169572 230170065 494   *     \n",
       "  annotation                                      geneChr geneStart geneEnd  \n",
       "1 Promoter (<=1kb)                                1        22076334  22092942\n",
       "2 Intron (ENST00000435827.6/10726, intron 4 of 6) 1        26922142  26942776\n",
       "3 Exon (ENST00000270879.9/8547, exon 8 of 8)      1        27355184  27366961\n",
       "4 Promoter (<=1kb)                                1        76074746  76634603\n",
       "5 Distal Intergenic                               1       220881069 220884493\n",
       "6 Intron (ENST00000494106.1/2590, intron 1 of 6)  1       230255358 230282120\n",
       "  geneLength geneStrand geneId transcriptId      distanceToTSS ENSEMBL        \n",
       "1  16609     1          998    ENST00000695802.1   -164        ENSG00000070831\n",
       "2  20635     1          10726  ENST00000452707.1   9916        ENSG00000090273\n",
       "3  11778     2          9064   ENST00000357582.3  -2457        ENSG00000142733\n",
       "4 559858     1          256435 ENST00000328299.4    887        ENSG00000184005\n",
       "5   3425     1          3142   ENST00000427693.1   6355        ENSG00000136630\n",
       "6  26763     1          2590   ENST00000485438.1 -85293        ENSG00000143641\n",
       "  SYMBOL     GENENAME                                                 \n",
       "1 CDC42      cell division cycle 42                                   \n",
       "2 NUDC       nuclear distribution C, dynein complex regulator         \n",
       "3 MAP3K6     mitogen-activated protein kinase kinase kinase 6         \n",
       "4 ST6GALNAC3 ST6 N-acetylgalactosaminide alpha-2,6-sialyltransferase 3\n",
       "5 HLX        H2.0 like homeobox                                       \n",
       "6 GALNT2     polypeptide N-acetylgalactosaminyltransferase 2          "
      ]
     },
     "metadata": {},
     "output_type": "display_data"
    }
   ],
   "source": [
    "head(as.data.frame(peakAnno@anno))"
   ]
  },
  {
   "attachments": {},
   "cell_type": "markdown",
   "metadata": {},
   "source": [
    "## Check the gene biotype in this database:"
   ]
  },
  {
   "cell_type": "code",
   "execution_count": 49,
   "metadata": {
    "vscode": {
     "languageId": "r"
    }
   },
   "outputs": [],
   "source": [
    "ENTREZID_TxDb <- keys(TxDb.Hsapiens.UCSC.hg38.knownGene, keytype = \"GENEID\")\n",
    "ENTREZID_TxDb_df <- data.frame(ENTREZID = as.character(ENTREZID_TxDb), Entrez_TxDb = as.integer(ENTREZID_TxDb))"
   ]
  },
  {
   "cell_type": "code",
   "execution_count": 36,
   "metadata": {
    "vscode": {
     "languageId": "r"
    }
   },
   "outputs": [
    {
     "data": {
      "text/html": [
       "<style>\n",
       ".list-inline {list-style: none; margin:0; padding: 0}\n",
       ".list-inline>li {display: inline-block}\n",
       ".list-inline>li:not(:last-child)::after {content: \"\\00b7\"; padding: 0 .5ex}\n",
       "</style>\n",
       "<ol class=list-inline><li>'ENTREZID'</li><li>'EXONID'</li><li>'GENEBIOTYPE'</li><li>'GENEID'</li><li>'GENENAME'</li><li>'PROTDOMID'</li><li>'PROTEINDOMAINID'</li><li>'PROTEINDOMAINSOURCE'</li><li>'PROTEINID'</li><li>'SEQNAME'</li><li>'SEQSTRAND'</li><li>'SYMBOL'</li><li>'TXBIOTYPE'</li><li>'TXID'</li><li>'TXNAME'</li><li>'UNIPROTID'</li></ol>\n"
      ],
      "text/latex": [
       "\\begin{enumerate*}\n",
       "\\item 'ENTREZID'\n",
       "\\item 'EXONID'\n",
       "\\item 'GENEBIOTYPE'\n",
       "\\item 'GENEID'\n",
       "\\item 'GENENAME'\n",
       "\\item 'PROTDOMID'\n",
       "\\item 'PROTEINDOMAINID'\n",
       "\\item 'PROTEINDOMAINSOURCE'\n",
       "\\item 'PROTEINID'\n",
       "\\item 'SEQNAME'\n",
       "\\item 'SEQSTRAND'\n",
       "\\item 'SYMBOL'\n",
       "\\item 'TXBIOTYPE'\n",
       "\\item 'TXID'\n",
       "\\item 'TXNAME'\n",
       "\\item 'UNIPROTID'\n",
       "\\end{enumerate*}\n"
      ],
      "text/markdown": [
       "1. 'ENTREZID'\n",
       "2. 'EXONID'\n",
       "3. 'GENEBIOTYPE'\n",
       "4. 'GENEID'\n",
       "5. 'GENENAME'\n",
       "6. 'PROTDOMID'\n",
       "7. 'PROTEINDOMAINID'\n",
       "8. 'PROTEINDOMAINSOURCE'\n",
       "9. 'PROTEINID'\n",
       "10. 'SEQNAME'\n",
       "11. 'SEQSTRAND'\n",
       "12. 'SYMBOL'\n",
       "13. 'TXBIOTYPE'\n",
       "14. 'TXID'\n",
       "15. 'TXNAME'\n",
       "16. 'UNIPROTID'\n",
       "\n",
       "\n"
      ],
      "text/plain": [
       " [1] \"ENTREZID\"            \"EXONID\"              \"GENEBIOTYPE\"        \n",
       " [4] \"GENEID\"              \"GENENAME\"            \"PROTDOMID\"          \n",
       " [7] \"PROTEINDOMAINID\"     \"PROTEINDOMAINSOURCE\" \"PROTEINID\"          \n",
       "[10] \"SEQNAME\"             \"SEQSTRAND\"           \"SYMBOL\"             \n",
       "[13] \"TXBIOTYPE\"           \"TXID\"                \"TXNAME\"             \n",
       "[16] \"UNIPROTID\"          "
      ]
     },
     "metadata": {},
     "output_type": "display_data"
    }
   ],
   "source": [
    "keytypes(EnsDb.Hsapiens.v86)"
   ]
  },
  {
   "cell_type": "code",
   "execution_count": 40,
   "metadata": {
    "vscode": {
     "languageId": "r"
    }
   },
   "outputs": [],
   "source": [
    "ENSEMBL_EnsDb <- keys(EnsDb.Hsapiens.v86, keytype = \"GENEID\")\n",
    "gene_dataframe_EnsDb <- ensembldb::select(EnsDb.Hsapiens.v86, keys=ENSEMBL_EnsDb, \n",
    "                                          columns=c(\"ENTREZID\", \"SYMBOL\", \"GENEBIOTYPE\"), keytype=\"GENEID\")\n",
    "colnames(gene_dataframe_EnsDb) <- c(\"Ensembl\", \"Entrez\", \"HGNC\", \"GENEBIOTYPE\")\n",
    "colnames(gene_dataframe_EnsDb) <- paste(colnames(gene_dataframe_EnsDb), \"EnsDb\", sep = \"_\")\n",
    "# additional column with HGNC added for merging & keeping one copy of it in the merged dataframe\n",
    "gene_dataframe_EnsDb$HGNC <- gene_dataframe_EnsDb$HGNC_EnsDb"
   ]
  },
  {
   "cell_type": "code",
   "execution_count": 41,
   "metadata": {
    "vscode": {
     "languageId": "r"
    }
   },
   "outputs": [
    {
     "data": {
      "text/html": [
       "<table class=\"dataframe\">\n",
       "<caption>A data.frame: 6 × 5</caption>\n",
       "<thead>\n",
       "\t<tr><th></th><th scope=col>Ensembl_EnsDb</th><th scope=col>Entrez_EnsDb</th><th scope=col>HGNC_EnsDb</th><th scope=col>GENEBIOTYPE_EnsDb</th><th scope=col>HGNC</th></tr>\n",
       "\t<tr><th></th><th scope=col>&lt;chr&gt;</th><th scope=col>&lt;int&gt;</th><th scope=col>&lt;chr&gt;</th><th scope=col>&lt;chr&gt;</th><th scope=col>&lt;chr&gt;</th></tr>\n",
       "</thead>\n",
       "<tbody>\n",
       "\t<tr><th scope=row>1</th><td>ENSG00000000003</td><td> 7105</td><td>TSPAN6  </td><td>protein_coding</td><td>TSPAN6  </td></tr>\n",
       "\t<tr><th scope=row>2</th><td>ENSG00000000005</td><td>64102</td><td>TNMD    </td><td>protein_coding</td><td>TNMD    </td></tr>\n",
       "\t<tr><th scope=row>3</th><td>ENSG00000000419</td><td> 8813</td><td>DPM1    </td><td>protein_coding</td><td>DPM1    </td></tr>\n",
       "\t<tr><th scope=row>4</th><td>ENSG00000000457</td><td>57147</td><td>SCYL3   </td><td>protein_coding</td><td>SCYL3   </td></tr>\n",
       "\t<tr><th scope=row>5</th><td>ENSG00000000460</td><td>55732</td><td>C1orf112</td><td>protein_coding</td><td>C1orf112</td></tr>\n",
       "\t<tr><th scope=row>6</th><td>ENSG00000000938</td><td> 2268</td><td>FGR     </td><td>protein_coding</td><td>FGR     </td></tr>\n",
       "</tbody>\n",
       "</table>\n"
      ],
      "text/latex": [
       "A data.frame: 6 × 5\n",
       "\\begin{tabular}{r|lllll}\n",
       "  & Ensembl\\_EnsDb & Entrez\\_EnsDb & HGNC\\_EnsDb & GENEBIOTYPE\\_EnsDb & HGNC\\\\\n",
       "  & <chr> & <int> & <chr> & <chr> & <chr>\\\\\n",
       "\\hline\n",
       "\t1 & ENSG00000000003 &  7105 & TSPAN6   & protein\\_coding & TSPAN6  \\\\\n",
       "\t2 & ENSG00000000005 & 64102 & TNMD     & protein\\_coding & TNMD    \\\\\n",
       "\t3 & ENSG00000000419 &  8813 & DPM1     & protein\\_coding & DPM1    \\\\\n",
       "\t4 & ENSG00000000457 & 57147 & SCYL3    & protein\\_coding & SCYL3   \\\\\n",
       "\t5 & ENSG00000000460 & 55732 & C1orf112 & protein\\_coding & C1orf112\\\\\n",
       "\t6 & ENSG00000000938 &  2268 & FGR      & protein\\_coding & FGR     \\\\\n",
       "\\end{tabular}\n"
      ],
      "text/markdown": [
       "\n",
       "A data.frame: 6 × 5\n",
       "\n",
       "| <!--/--> | Ensembl_EnsDb &lt;chr&gt; | Entrez_EnsDb &lt;int&gt; | HGNC_EnsDb &lt;chr&gt; | GENEBIOTYPE_EnsDb &lt;chr&gt; | HGNC &lt;chr&gt; |\n",
       "|---|---|---|---|---|---|\n",
       "| 1 | ENSG00000000003 |  7105 | TSPAN6   | protein_coding | TSPAN6   |\n",
       "| 2 | ENSG00000000005 | 64102 | TNMD     | protein_coding | TNMD     |\n",
       "| 3 | ENSG00000000419 |  8813 | DPM1     | protein_coding | DPM1     |\n",
       "| 4 | ENSG00000000457 | 57147 | SCYL3    | protein_coding | SCYL3    |\n",
       "| 5 | ENSG00000000460 | 55732 | C1orf112 | protein_coding | C1orf112 |\n",
       "| 6 | ENSG00000000938 |  2268 | FGR      | protein_coding | FGR      |\n",
       "\n"
      ],
      "text/plain": [
       "  Ensembl_EnsDb   Entrez_EnsDb HGNC_EnsDb GENEBIOTYPE_EnsDb HGNC    \n",
       "1 ENSG00000000003  7105        TSPAN6     protein_coding    TSPAN6  \n",
       "2 ENSG00000000005 64102        TNMD       protein_coding    TNMD    \n",
       "3 ENSG00000000419  8813        DPM1       protein_coding    DPM1    \n",
       "4 ENSG00000000457 57147        SCYL3      protein_coding    SCYL3   \n",
       "5 ENSG00000000460 55732        C1orf112   protein_coding    C1orf112\n",
       "6 ENSG00000000938  2268        FGR        protein_coding    FGR     "
      ]
     },
     "metadata": {},
     "output_type": "display_data"
    }
   ],
   "source": [
    "head(gene_dataframe_EnsDb)"
   ]
  },
  {
   "cell_type": "code",
   "execution_count": 55,
   "metadata": {
    "vscode": {
     "languageId": "r"
    }
   },
   "outputs": [
    {
     "data": {
      "text/html": [
       "<table class=\"dataframe\">\n",
       "<caption>A data.frame: 6 × 2</caption>\n",
       "<thead>\n",
       "\t<tr><th></th><th scope=col>ENTREZID</th><th scope=col>Entrez_TxDb</th></tr>\n",
       "\t<tr><th></th><th scope=col>&lt;chr&gt;</th><th scope=col>&lt;int&gt;</th></tr>\n",
       "</thead>\n",
       "<tbody>\n",
       "\t<tr><th scope=row>1</th><td>1        </td><td>        1</td></tr>\n",
       "\t<tr><th scope=row>2</th><td>10       </td><td>       10</td></tr>\n",
       "\t<tr><th scope=row>3</th><td>100      </td><td>      100</td></tr>\n",
       "\t<tr><th scope=row>4</th><td>1000     </td><td>     1000</td></tr>\n",
       "\t<tr><th scope=row>5</th><td>10000    </td><td>    10000</td></tr>\n",
       "\t<tr><th scope=row>6</th><td>100008586</td><td>100008586</td></tr>\n",
       "</tbody>\n",
       "</table>\n"
      ],
      "text/latex": [
       "A data.frame: 6 × 2\n",
       "\\begin{tabular}{r|ll}\n",
       "  & ENTREZID & Entrez\\_TxDb\\\\\n",
       "  & <chr> & <int>\\\\\n",
       "\\hline\n",
       "\t1 & 1         &         1\\\\\n",
       "\t2 & 10        &        10\\\\\n",
       "\t3 & 100       &       100\\\\\n",
       "\t4 & 1000      &      1000\\\\\n",
       "\t5 & 10000     &     10000\\\\\n",
       "\t6 & 100008586 & 100008586\\\\\n",
       "\\end{tabular}\n"
      ],
      "text/markdown": [
       "\n",
       "A data.frame: 6 × 2\n",
       "\n",
       "| <!--/--> | ENTREZID &lt;chr&gt; | Entrez_TxDb &lt;int&gt; |\n",
       "|---|---|---|\n",
       "| 1 | 1         |         1 |\n",
       "| 2 | 10        |        10 |\n",
       "| 3 | 100       |       100 |\n",
       "| 4 | 1000      |      1000 |\n",
       "| 5 | 10000     |     10000 |\n",
       "| 6 | 100008586 | 100008586 |\n",
       "\n"
      ],
      "text/plain": [
       "  ENTREZID  Entrez_TxDb\n",
       "1 1                 1  \n",
       "2 10               10  \n",
       "3 100             100  \n",
       "4 1000           1000  \n",
       "5 10000         10000  \n",
       "6 100008586 100008586  "
      ]
     },
     "metadata": {},
     "output_type": "display_data"
    },
    {
     "data": {
      "text/html": [
       "<style>\n",
       ".list-inline {list-style: none; margin:0; padding: 0}\n",
       ".list-inline>li {display: inline-block}\n",
       ".list-inline>li:not(:last-child)::after {content: \"\\00b7\"; padding: 0 .5ex}\n",
       "</style>\n",
       "<ol class=list-inline><li>31456</li><li>2</li></ol>\n"
      ],
      "text/latex": [
       "\\begin{enumerate*}\n",
       "\\item 31456\n",
       "\\item 2\n",
       "\\end{enumerate*}\n"
      ],
      "text/markdown": [
       "1. 31456\n",
       "2. 2\n",
       "\n",
       "\n"
      ],
      "text/plain": [
       "[1] 31456     2"
      ]
     },
     "metadata": {},
     "output_type": "display_data"
    }
   ],
   "source": [
    "head(ENTREZID_TxDb_df)\n",
    "dim(ENTREZID_TxDb_df)"
   ]
  },
  {
   "cell_type": "code",
   "execution_count": 58,
   "metadata": {
    "vscode": {
     "languageId": "r"
    }
   },
   "outputs": [],
   "source": [
    "# merging the two dataframes \n",
    "gene_dataframe <- inner_join(gene_dataframe_EnsDb, ENTREZID_TxDb_df, by = c(\"Entrez_EnsDb\" = \"Entrez_TxDb\")) "
   ]
  },
  {
   "cell_type": "code",
   "execution_count": 59,
   "metadata": {
    "vscode": {
     "languageId": "r"
    }
   },
   "outputs": [
    {
     "data": {
      "text/html": [
       "<table class=\"dataframe\">\n",
       "<caption>A data.frame: 6 × 6</caption>\n",
       "<thead>\n",
       "\t<tr><th></th><th scope=col>Ensembl_EnsDb</th><th scope=col>Entrez_EnsDb</th><th scope=col>HGNC_EnsDb</th><th scope=col>GENEBIOTYPE_EnsDb</th><th scope=col>HGNC</th><th scope=col>ENTREZID</th></tr>\n",
       "\t<tr><th></th><th scope=col>&lt;chr&gt;</th><th scope=col>&lt;int&gt;</th><th scope=col>&lt;chr&gt;</th><th scope=col>&lt;chr&gt;</th><th scope=col>&lt;chr&gt;</th><th scope=col>&lt;chr&gt;</th></tr>\n",
       "</thead>\n",
       "<tbody>\n",
       "\t<tr><th scope=row>1</th><td>ENSG00000000003</td><td> 7105</td><td>TSPAN6  </td><td>protein_coding</td><td>TSPAN6  </td><td>7105 </td></tr>\n",
       "\t<tr><th scope=row>2</th><td>ENSG00000000005</td><td>64102</td><td>TNMD    </td><td>protein_coding</td><td>TNMD    </td><td>64102</td></tr>\n",
       "\t<tr><th scope=row>3</th><td>ENSG00000000419</td><td> 8813</td><td>DPM1    </td><td>protein_coding</td><td>DPM1    </td><td>8813 </td></tr>\n",
       "\t<tr><th scope=row>4</th><td>ENSG00000000457</td><td>57147</td><td>SCYL3   </td><td>protein_coding</td><td>SCYL3   </td><td>57147</td></tr>\n",
       "\t<tr><th scope=row>5</th><td>ENSG00000000460</td><td>55732</td><td>C1orf112</td><td>protein_coding</td><td>C1orf112</td><td>55732</td></tr>\n",
       "\t<tr><th scope=row>6</th><td>ENSG00000000938</td><td> 2268</td><td>FGR     </td><td>protein_coding</td><td>FGR     </td><td>2268 </td></tr>\n",
       "</tbody>\n",
       "</table>\n"
      ],
      "text/latex": [
       "A data.frame: 6 × 6\n",
       "\\begin{tabular}{r|llllll}\n",
       "  & Ensembl\\_EnsDb & Entrez\\_EnsDb & HGNC\\_EnsDb & GENEBIOTYPE\\_EnsDb & HGNC & ENTREZID\\\\\n",
       "  & <chr> & <int> & <chr> & <chr> & <chr> & <chr>\\\\\n",
       "\\hline\n",
       "\t1 & ENSG00000000003 &  7105 & TSPAN6   & protein\\_coding & TSPAN6   & 7105 \\\\\n",
       "\t2 & ENSG00000000005 & 64102 & TNMD     & protein\\_coding & TNMD     & 64102\\\\\n",
       "\t3 & ENSG00000000419 &  8813 & DPM1     & protein\\_coding & DPM1     & 8813 \\\\\n",
       "\t4 & ENSG00000000457 & 57147 & SCYL3    & protein\\_coding & SCYL3    & 57147\\\\\n",
       "\t5 & ENSG00000000460 & 55732 & C1orf112 & protein\\_coding & C1orf112 & 55732\\\\\n",
       "\t6 & ENSG00000000938 &  2268 & FGR      & protein\\_coding & FGR      & 2268 \\\\\n",
       "\\end{tabular}\n"
      ],
      "text/markdown": [
       "\n",
       "A data.frame: 6 × 6\n",
       "\n",
       "| <!--/--> | Ensembl_EnsDb &lt;chr&gt; | Entrez_EnsDb &lt;int&gt; | HGNC_EnsDb &lt;chr&gt; | GENEBIOTYPE_EnsDb &lt;chr&gt; | HGNC &lt;chr&gt; | ENTREZID &lt;chr&gt; |\n",
       "|---|---|---|---|---|---|---|\n",
       "| 1 | ENSG00000000003 |  7105 | TSPAN6   | protein_coding | TSPAN6   | 7105  |\n",
       "| 2 | ENSG00000000005 | 64102 | TNMD     | protein_coding | TNMD     | 64102 |\n",
       "| 3 | ENSG00000000419 |  8813 | DPM1     | protein_coding | DPM1     | 8813  |\n",
       "| 4 | ENSG00000000457 | 57147 | SCYL3    | protein_coding | SCYL3    | 57147 |\n",
       "| 5 | ENSG00000000460 | 55732 | C1orf112 | protein_coding | C1orf112 | 55732 |\n",
       "| 6 | ENSG00000000938 |  2268 | FGR      | protein_coding | FGR      | 2268  |\n",
       "\n"
      ],
      "text/plain": [
       "  Ensembl_EnsDb   Entrez_EnsDb HGNC_EnsDb GENEBIOTYPE_EnsDb HGNC     ENTREZID\n",
       "1 ENSG00000000003  7105        TSPAN6     protein_coding    TSPAN6   7105    \n",
       "2 ENSG00000000005 64102        TNMD       protein_coding    TNMD     64102   \n",
       "3 ENSG00000000419  8813        DPM1       protein_coding    DPM1     8813    \n",
       "4 ENSG00000000457 57147        SCYL3      protein_coding    SCYL3    57147   \n",
       "5 ENSG00000000460 55732        C1orf112   protein_coding    C1orf112 55732   \n",
       "6 ENSG00000000938  2268        FGR        protein_coding    FGR      2268    "
      ]
     },
     "metadata": {},
     "output_type": "display_data"
    },
    {
     "data": {
      "text/html": [
       "<style>\n",
       ".list-inline {list-style: none; margin:0; padding: 0}\n",
       ".list-inline>li {display: inline-block}\n",
       ".list-inline>li:not(:last-child)::after {content: \"\\00b7\"; padding: 0 .5ex}\n",
       "</style>\n",
       "<ol class=list-inline><li>28513</li><li>6</li></ol>\n"
      ],
      "text/latex": [
       "\\begin{enumerate*}\n",
       "\\item 28513\n",
       "\\item 6\n",
       "\\end{enumerate*}\n"
      ],
      "text/markdown": [
       "1. 28513\n",
       "2. 6\n",
       "\n",
       "\n"
      ],
      "text/plain": [
       "[1] 28513     6"
      ]
     },
     "metadata": {},
     "output_type": "display_data"
    }
   ],
   "source": [
    "head(gene_dataframe)\n",
    "dim(gene_dataframe)"
   ]
  },
  {
   "cell_type": "code",
   "execution_count": 60,
   "metadata": {
    "vscode": {
     "languageId": "r"
    }
   },
   "outputs": [
    {
     "data": {
      "text/plain": [
       "\n",
       "          3prime_overlapping_ncRNA                          antisense \n",
       "                                 2                               1206 \n",
       "     bidirectional_promoter_lncRNA                          IG_V_gene \n",
       "                                 1                                  1 \n",
       "                           lincRNA                           LRG_gene \n",
       "                              1737                                677 \n",
       "                             miRNA                           misc_RNA \n",
       "                              1547                                  8 \n",
       "                        non_coding             polymorphic_pseudogene \n",
       "                                 2                                 48 \n",
       "              processed_pseudogene               processed_transcript \n",
       "                                18                                343 \n",
       "                    protein_coding                         pseudogene \n",
       "                             21897                                  1 \n",
       "                              rRNA                             scaRNA \n",
       "                                25                                 19 \n",
       "                             scRNA                     sense_intronic \n",
       "                                 1                                 74 \n",
       "                 sense_overlapping                             snoRNA \n",
       "                                23                                367 \n",
       "                             snRNA                                TEC \n",
       "                                32                                 18 \n",
       "                         TR_C_gene   transcribed_processed_pseudogene \n",
       "                                 1                                101 \n",
       "    transcribed_unitary_pseudogene transcribed_unprocessed_pseudogene \n",
       "                                30                                280 \n",
       "                unitary_pseudogene             unprocessed_pseudogene \n",
       "                                22                                 32 "
      ]
     },
     "metadata": {},
     "output_type": "display_data"
    }
   ],
   "source": [
    "table(gene_dataframe$GENEBIOTYPE_EnsDb)"
   ]
  },
  {
   "attachments": {},
   "cell_type": "markdown",
   "metadata": {},
   "source": [
    "## Characterizing the feature count matrix"
   ]
  },
  {
   "cell_type": "code",
   "execution_count": null,
   "metadata": {
    "vscode": {
     "languageId": "r"
    }
   },
   "outputs": [],
   "source": []
  },
  {
   "cell_type": "code",
   "execution_count": null,
   "metadata": {
    "pycharm": {
     "name": "#%%\n"
    },
    "vscode": {
     "languageId": "r"
    }
   },
   "outputs": [],
   "source": []
  }
 ],
 "metadata": {
  "kernelspec": {
   "display_name": "R",
   "language": "R",
   "name": "ir"
  },
  "language_info": {
   "codemirror_mode": "r",
   "file_extension": ".r",
   "mimetype": "text/x-r-source",
   "name": "R",
   "pygments_lexer": "r",
   "version": "4.2.3"
  }
 },
 "nbformat": 4,
 "nbformat_minor": 4
}
